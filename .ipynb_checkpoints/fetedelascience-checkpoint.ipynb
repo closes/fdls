{
 "cells": [
  {
   "cell_type": "code",
   "execution_count": 1,
   "metadata": {},
   "outputs": [],
   "source": [
    "import numpy as np\n",
    "import sys\n",
    "from scipy.special import erfcinv as erfcinv\n",
    "import tqdm as tqdm\n",
    "import time\n",
    "import scipy.io as sio\n",
    "import lax_wendroff as lw\n",
    "import ipywidgets as widgets"
   ]
  },
  {
   "cell_type": "code",
   "execution_count": 2,
   "metadata": {},
   "outputs": [],
   "source": [
    "# SECTION 0: Definitions (normally don't modify this section)\n",
    "\n",
    "# Possible initial conditions of the height field\n",
    "# only allow Gaussian blob, but make slider so can adjust height"
   ]
  },
  {
   "cell_type": "code",
   "execution_count": 3,
   "metadata": {},
   "outputs": [],
   "source": [
    "# Possible orographies\n",
    "FLAT=0;\n",
    "SLOPE=1;\n",
    "GAUSSIAN_MOUNTAIN=2;\n",
    "EARTH_OROGRAPHY=3;\n",
    "SEA_MOUNT=4;\n",
    "SEA_MOUNT2=5;\n",
    "oro = widgets.Dropdown(\n",
    "    options=[('FLAT',0),('SLOPE', 1), ('GAUSSIAN_MOUNTAIN', 2), ('EARTH_OROGRAPHY', 3), ('SEA_MOUNT', 4), ('SEA_MOUNT2', 5)],\n",
    "    value=1,\n",
    "    description='Orography:',\n",
    ")"
   ]
  },
  {
   "cell_type": "code",
   "execution_count": 4,
   "metadata": {},
   "outputs": [
    {
     "data": {
      "application/vnd.jupyter.widget-view+json": {
       "model_id": "aca4f01061dd401989f87c94c18b48b9",
       "version_major": 2,
       "version_minor": 0
      },
      "text/plain": [
       "HBox(children=(Dropdown(description='Orography:', index=1, options=(('FLAT', 0), ('SLOPE', 1), ('GAUSSIAN_MOUN…"
      ]
     },
     "metadata": {},
     "output_type": "display_data"
    }
   ],
   "source": [
    "container2 = widgets.HBox([oro])\n",
    "container2"
   ]
  },
  {
   "cell_type": "code",
   "execution_count": null,
   "metadata": {},
   "outputs": [],
   "source": []
  },
  {
   "cell_type": "code",
   "execution_count": 5,
   "metadata": {},
   "outputs": [],
   "source": [
    "# SECTION 1: Configuration\n",
    "g    = 9.81;                # Acceleration due to gravity (m/s2)\n",
    "f=0.;\n",
    "beta=0.;\n",
    "\n",
    "dt_mins              = 3.;   # Timestep (minutes)\n",
    "output_interval_mins = 60.;  # Time between outputs (minutes)\n",
    "forecast_length_days = 12.0;   # Total simulation length (days)\n",
    "\n",
    "initial_conditions = 4\n",
    "\n",
    "# If you change the number of gridpoints then orography=EARTH_OROGRAPHY\n",
    "# or initial_conditions=REANALYSIS won't work\n",
    "nx=254; # Number of zonal gridpoints\n",
    "ny=50;  # Number of meridional gridpoints\n",
    "#ny=3;\n",
    "\n",
    "dx=100.0e3; # Zonal grid spacing (m)\n",
    "dy=dx;      # Meridional grid spacing\n",
    "\n",
    "# Specify the range of heights to plot in metres\n",
    "plot_height_range = np.array([9500., 10500.]);"
   ]
  },
  {
   "cell_type": "code",
   "execution_count": 6,
   "metadata": {},
   "outputs": [],
   "source": [
    "# SECTION 2: Act on the configuration information\n",
    "dt = dt_mins*60.0; # Timestep (s)\n",
    "output_interval = output_interval_mins*60.0; # Time between outputs (s)\n",
    "forecast_length = forecast_length_days*24.0*3600.0; # Forecast length (s)\n",
    "nt = int(np.fix(forecast_length/dt)+1); # Number of timesteps\n",
    "timesteps_between_outputs = np.fix(output_interval/dt);\n",
    "noutput = int(np.ceil(nt/timesteps_between_outputs)); # Number of output frames\n",
    "\n",
    "x=np.mgrid[0:nx]*dx; # Zonal distance coordinate (m)\n",
    "y=np.mgrid[0:ny]*dy; # Meridional distance coordinate (m)\n",
    "[Y,X] = np.meshgrid(y,x); # Create matrices of the coordinate variables"
   ]
  },
  {
   "cell_type": "code",
   "execution_count": 7,
   "metadata": {},
   "outputs": [
    {
     "data": {
      "application/vnd.jupyter.widget-view+json": {
       "model_id": "664b8a1a9daa498a80eb99d428764158",
       "version_major": 2,
       "version_minor": 0
      },
      "text/plain": [
       "IntSlider(value=1, continuous_update=False, description='Pente:', max=12, min=1)"
      ]
     },
     "metadata": {},
     "output_type": "display_data"
    }
   ],
   "source": [
    "steep = widgets.IntSlider(\n",
    "    value=1.0,\n",
    "    min=1.0,\n",
    "    max=12.0,\n",
    "    step=1.0,\n",
    "    description='Pente:',\n",
    "    continuous_update=False\n",
    ")\n",
    "steep"
   ]
  },
  {
   "cell_type": "code",
   "execution_count": 8,
   "metadata": {},
   "outputs": [],
   "source": [
    "orography = oro.value\n",
    "def run_model(orography):\n",
    "    # Create the orography field \"H\"\n",
    "    if orography == FLAT:\n",
    "       H = np.zeros((nx, ny));\n",
    "    elif orography == SLOPE:\n",
    "       steepness = 4000.*steep.value/12.\n",
    "       H = steepness*2.*np.abs((np.mean(x)-X)/np.max(x));\n",
    "    elif orography == GAUSSIAN_MOUNTAIN:\n",
    "       std_mountain_x = 5.*dx; # Std. dev. of mountain in x direction (m)\n",
    "       std_mountain_y = 5.*dy; # Std. dev. of mountain in y direction (m)\n",
    "       H = 4000.*np.exp(-0.5*((X-np.mean(x))/std_mountain_x)**2. \\\n",
    "                  -0.5*((Y-np.mean(y))/std_mountain_y)**2.);\n",
    "    elif orography == SEA_MOUNT:\n",
    "       std_mountain = 40.0*dy; # Standard deviation of mountain (m)\n",
    "       H = 9250.*np.exp(-((X-np.mean(x))**2.+(Y-0.5*np.mean(y))**2.)/(2.*std_mountain**2.));\n",
    "    elif orography == SEA_MOUNT2:\n",
    "       std_mountain = 40.0*dy; # Standard deviation of mountain (m)\n",
    "       H = 9550.*np.exp(-((X-np.mean(x))**2.+(Y-0.5*np.mean(y))**2.)/(2.*std_mountain**2.));\n",
    "       H = np.concatenate((H[len(x)//2:,:],H[:len(x)//2,:]),axis=0)\n",
    "    elif orography == EARTH_OROGRAPHY:\n",
    "       mat_contents = sio.loadmat('digital_elevation_map.mat')\n",
    "       H = mat_contents['elevation'];\n",
    "       # Enforce periodic boundary conditions in x\n",
    "       H[[0, -1],:]=H[[-2, 1],:];\n",
    "    else:\n",
    "       print('Don''t know what to do with orography=' + np.num2str(orography)); \n",
    "       sys.exit()\n",
    "        \n",
    "    # Create the initial height field \n",
    "    std_blob = 8.0*dy; # Standard deviation of blob (m)\n",
    "    #height = 9750. + 1000.*np.exp(-((X-0.25*np.mean(x))**2.+(Y-np.mean(y))**2.)/(2.* \\\n",
    "    #                                                     std_blob**2.));\n",
    "    height = 9750. + 1000.*np.exp(-((X-1.1*np.mean(x))**2.+(Y-np.mean(y))**2.)/(2.* \\\n",
    "                                                     std_blob**2.));\n",
    "    # Coriolis parameter as a matrix of values varying in y only\n",
    "    F = f+beta*(Y-np.mean(y));\n",
    "    \n",
    "    # Initialize the wind to rest\n",
    "    u=np.zeros((nx, ny));\n",
    "    v=np.zeros((nx, ny));\n",
    "    \n",
    "    # Define h as the depth of the fluid (whereas \"height\" is the height of\n",
    "    # the upper surface)\n",
    "    h = height - H;\n",
    "    \n",
    "    # Initialize the 3D arrays where the output data will be stored\n",
    "    u_save = np.zeros((nx, ny, noutput));\n",
    "    v_save = np.zeros((nx, ny, noutput));\n",
    "    h_save = np.zeros((nx, ny, noutput));\n",
    "    t_save = np.zeros((noutput,1));\n",
    "    \n",
    "    # Index to stored data\n",
    "    i_save = 0;\n",
    "    # SECTION 3: Main loop\n",
    "    #print('Running model: orography is ',orography)\n",
    "    for n in range(0,nt):\n",
    "       # Every fixed number of timesteps we store the fields\n",
    "       if np.mod(n,timesteps_between_outputs) == 0:\n",
    "        max_u = np.sqrt(np.max(u[:]*u[:]+v[:]*v[:]));\n",
    "      \n",
    "        #print(\"Time = %f hours (max %f); max(|u|) = %f\"  \n",
    "        #  % ((n)*dt/3600., forecast_length_days*24., max_u) )\n",
    " \n",
    "        u_save[:,:,i_save] = u;\n",
    "        v_save[:,:,i_save] = v;\n",
    "        h_save[:,:,i_save] = h;\n",
    "        t_save[i_save] = (n)*dt;\n",
    "        i_save = i_save+1;\n",
    "        \n",
    "\n",
    "        # Compute the accelerations\n",
    "        u_accel = F[1:-1,1:-1]*v[1:-1,1:-1] \\\n",
    "              - (g/(2.*dx))*(H[2:,1:-1]-H[0:-2,1:-1]);\n",
    "        v_accel = -F[1:-1,1:-1]*u[1:-1,1:-1] \\\n",
    "              - (g/(2.*dy))*(H[1:-1,2:]-H[1:-1,0:-2]);\n",
    "\n",
    "        # Call the Lax-Wendroff scheme to move forward one timestep\n",
    "        (unew, vnew, h_new) = lw.lax_wendroff(dx, dy, dt, g, u, v, h, u_accel, v_accel);\n",
    "\n",
    "        # Update the wind and height fields, taking care to enforce \n",
    "        # boundary conditions   \n",
    "        u[1:-1,1:-1] = unew;\n",
    "        v[1:-1,1:-1] = vnew;\n",
    "        \n",
    "        # first x-slice\n",
    "        u[0,1:-1]=unew[-1,:]\n",
    "        u[0,0]=unew[-1,0]\n",
    "        u[0,-1]=unew[-1,-1]\n",
    "        v[0,1:-1]=vnew[-1,:]\n",
    "        v[0,0]=vnew[-1,0]\n",
    "        v[0,-1]=vnew[-1,-1]\n",
    "        # last x-slice\n",
    "        u[-1,1:-1]=unew[0,:]\n",
    "        u[-1,0]=unew[0,0]\n",
    "        u[-1,-1]=unew[0,-1]\n",
    "        v[-1,1:-1]=vnew[0,:]\n",
    "        v[-1,0]=vnew[0,0]\n",
    "        v[-1,-1]=vnew[0,-1]\n",
    "   \n",
    "        # no flux from north / south\n",
    "        v[:,[0,-1]]=0.;\n",
    "        # interior\n",
    "        h[1:-1,1:-1] = h_new;\n",
    "        # first x-slice\n",
    "        h[0,1:-1]=h_new[-1,:]\n",
    "        # last x-slice\n",
    "        h[-1,1:-1]=h_new[0,:]\n",
    "    return H, height, t_save, h_save"
   ]
  },
  {
   "cell_type": "code",
   "execution_count": 9,
   "metadata": {},
   "outputs": [],
   "source": [
    "#from IPython.core.display import HTML\n",
    "#HTML('''<script> </script> <form action=\"javascript:IPython.notebook.execute_cells_below()\"><input type=\"submit\" id=\"toggleButton\" value=\"Refresh\"></form>''')\n"
   ]
  },
  {
   "cell_type": "code",
   "execution_count": 46,
   "metadata": {},
   "outputs": [
    {
     "data": {
      "application/vnd.jupyter.widget-view+json": {
       "model_id": "307281ff2fae4a77ada6e0bd45cc4379",
       "version_major": 2,
       "version_minor": 0
      },
      "text/plain": [
       "Button(description='Refresh', style=ButtonStyle())"
      ]
     },
     "metadata": {},
     "output_type": "display_data"
    },
    {
     "data": {
      "application/vnd.jupyter.widget-view+json": {
       "model_id": "b9d6cc88098c4bb7a49ff97283ead0ad",
       "version_major": 2,
       "version_minor": 0
      },
      "text/plain": [
       "Canvas(toolbar=Toolbar(toolitems=[('Home', 'Reset original view', 'home', 'home'), ('Back', 'Back to previous …"
      ]
     },
     "metadata": {},
     "output_type": "display_data"
    },
    {
     "data": {
      "application/vnd.jupyter.widget-view+json": {
       "model_id": "9505114b22b04d3a926d88a67cea9874",
       "version_major": 2,
       "version_minor": 0
      },
      "text/plain": [
       "interactive(children=(IntSlider(value=144, description='i', max=288), Output()), _dom_classes=('widget-interac…"
      ]
     },
     "metadata": {},
     "output_type": "display_data"
    }
   ],
   "source": [
    "\n",
    "\n",
    "import matplotlib.pyplot as plt\n",
    "import numpy as np\n",
    "import ipywidgets as widgets\n",
    "from IPython.display import display\n",
    "\n",
    "import matplotlib.pyplot as plt\n",
    "from matplotlib import rc\n",
    "import matplotlib.animation as animation\n",
    "from scipy.ndimage import gaussian_filter1d\n",
    "\n",
    "%matplotlib widget\n",
    "#%matplotlib notebook\n",
    "\n",
    "button = widgets.Button(description='Refresh')\n",
    "display(button)\n",
    "\n",
    "fig, (ax,ax1) = plt.subplots(2,1)\n",
    "ax.set_xlabel('Distance')\n",
    "ax.set_ylabel('Niveau de la mer [m]')\n",
    "\n",
    "ax1.set_xlabel('Distance')\n",
    "ax1.set_ylabel('Topographie [m]')\n",
    "plt.subplots_adjust(hspace=0.35)\n",
    "\n",
    "#plt.close()\n",
    "def get_fig():\n",
    "    ax.plot(np.arange(10), np.random.random(10))\n",
    "\n",
    "#get_fig()\n",
    "\n",
    "def update_line(i, plotslice, t_save, hmax, endtime):\n",
    "    ax.cla()\n",
    "    line, = ax.plot(plotslice[:-5,i],'b-')\n",
    "    ax.set_ylim(9500,10000)\n",
    "    title = ax.text(0, 10005, 'Niveau moyen = 9750 m');\n",
    "    ax.set_xlabel('Distance')\n",
    "    ax.set_ylabel('Niveau de la mer [m]')\n",
    "    if i == endtime-1:\n",
    "        t2 = ax.text(20, 9550, 'Hauteur de vague maximale = %.1f m' % [np.max(plotslice[-5,:])-9750.][0], fontsize=14, color='r')\n",
    "\n",
    "def get_anim(fig,H,t_save,h_save):\n",
    "    container = []\n",
    "    \n",
    "    mid = np.where((x - np.mean(x)) > 0)[0]\n",
    "    \n",
    "    plotslice = H[mid,25][:,None]+h_save[mid,25,:]\n",
    "    # decide when to stop plotting\n",
    "    targetpoint = plotslice[-5,:]\n",
    "    hmax = np.max(plotslice[-5,:] - H[mid[-5],25])\n",
    "    smooth = gaussian_filter1d(targetpoint, 2)\n",
    "    smooth_d2 = np.gradient(smooth)\n",
    "    infls = np.where(np.diff(np.sign(smooth_d2)))[0]\n",
    "    if len(infls):\n",
    "        maxtime = np.where(targetpoint == np.nanmax(targetpoint))[0]\n",
    "        if len(infls[infls > maxtime]):\n",
    "            endtime = infls[infls > maxtime][0]\n",
    "        else:\n",
    "            endtime = len(targetpoint)\n",
    "    else:\n",
    "        endtime = len(targetpoint)\n",
    "    ax1.plot(H[np.size(H,0)//2:-5,25],'k-')\n",
    "    ax1.set_xlabel('Distance')\n",
    "    ax1.set_ylabel('Topographie [m]')\n",
    "    #widgets.interact(update_line, i=widgets.Play(min=0, max=endtime-1, step=1, interval=75), plotslice = widgets.fixed(plotslice), t_save = widgets.fixed(t_save), hmax = widgets.fixed(hmax), endtime = widgets.fixed(endtime))\n",
    "    test = widgets.interact(update_line, i=(0, endtime-1, 1), plotslice = widgets.fixed(plotslice), t_save = widgets.fixed(t_save), hmax = widgets.fixed(hmax), endtime = widgets.fixed(endtime))\n",
    "    \n",
    "\n",
    "def on_button_clicked(b):\n",
    "    plt.cla()\n",
    "    H, height, t_save, h_save = run_model(oro.value)\n",
    "    get_anim(fig,H,t_save,h_save)\n",
    "    \n",
    "button.on_click(on_button_clicked)\n",
    "\n"
   ]
  },
  {
   "cell_type": "code",
   "execution_count": 11,
   "metadata": {},
   "outputs": [],
   "source": []
  },
  {
   "cell_type": "code",
   "execution_count": 33,
   "metadata": {},
   "outputs": [
    {
     "data": {
      "text/plain": [
       "98.86472082184628"
      ]
     },
     "execution_count": 33,
     "metadata": {},
     "output_type": "execute_result"
    }
   ],
   "source": []
  },
  {
   "cell_type": "code",
   "execution_count": 16,
   "metadata": {},
   "outputs": [
    {
     "data": {
      "application/vnd.jupyter.widget-view+json": {
       "model_id": "5d4501a662ff493b9252a34dd5355fd9",
       "version_major": 2,
       "version_minor": 0
      },
      "text/plain": [
       "Canvas(toolbar=Toolbar(toolitems=[('Home', 'Reset original view', 'home', 'home'), ('Back', 'Back to previous …"
      ]
     },
     "metadata": {},
     "output_type": "display_data"
    },
    {
     "data": {
      "text/plain": [
       "[<matplotlib.lines.Line2D at 0x7f9d94677dc0>]"
      ]
     },
     "execution_count": 16,
     "metadata": {},
     "output_type": "execute_result"
    }
   ],
   "source": []
  },
  {
   "cell_type": "code",
   "execution_count": 42,
   "metadata": {},
   "outputs": [
    {
     "data": {
      "text/plain": [
       "Text(20, 9550, 'Hauteur de vague maximale = 98.9')"
      ]
     },
     "execution_count": 42,
     "metadata": {},
     "output_type": "execute_result"
    }
   ],
   "source": []
  },
  {
   "cell_type": "code",
   "execution_count": 19,
   "metadata": {},
   "outputs": [
    {
     "data": {
      "text/plain": [
       "(254, 50)"
      ]
     },
     "execution_count": 19,
     "metadata": {},
     "output_type": "execute_result"
    }
   ],
   "source": []
  },
  {
   "cell_type": "code",
   "execution_count": null,
   "metadata": {},
   "outputs": [],
   "source": []
  },
  {
   "cell_type": "code",
   "execution_count": null,
   "metadata": {},
   "outputs": [],
   "source": []
  },
  {
   "cell_type": "code",
   "execution_count": null,
   "metadata": {},
   "outputs": [],
   "source": []
  },
  {
   "cell_type": "code",
   "execution_count": null,
   "metadata": {},
   "outputs": [],
   "source": []
  }
 ],
 "metadata": {
  "kernelspec": {
   "display_name": "Python 3",
   "language": "python",
   "name": "python3"
  },
  "language_info": {
   "codemirror_mode": {
    "name": "ipython",
    "version": 3
   },
   "file_extension": ".py",
   "mimetype": "text/x-python",
   "name": "python",
   "nbconvert_exporter": "python",
   "pygments_lexer": "ipython3",
   "version": "3.8.2"
  }
 },
 "nbformat": 4,
 "nbformat_minor": 4
}
