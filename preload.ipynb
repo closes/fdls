{
 "cells": [
  {
   "cell_type": "code",
   "execution_count": 5,
   "metadata": {},
   "outputs": [
    {
     "data": {
      "application/vnd.jupyter.widget-view+json": {
       "model_id": "e559105b00344032b2b1ebd72d658eee",
       "version_major": 2,
       "version_minor": 0
      },
      "text/plain": [
       "HBox(children=(Dropdown(description='Orography:', index=1, options=(('PLAT', 0), ('PENTE_DROITE', 1), ('MONTAG…"
      ]
     },
     "metadata": {},
     "output_type": "display_data"
    }
   ],
   "source": [
    "import ipywidgets as widgets\n",
    "from IPython import display as dp\n",
    "\n",
    "# Possible orographies\n",
    "oro = widgets.Dropdown(\n",
    "    options=[('PLAT',0),('PENTE_DROITE', 1), ('MONTAGNE_SOUS_MARINE', 2), ('PENTE_COURBE', 5)],\n",
    "    value=1,\n",
    "    description='Orography:',\n",
    ")\n",
    "\n",
    "steep = widgets.IntSlider(\n",
    "    value=1.0,\n",
    "    min=1.0,\n",
    "    max=4.0,\n",
    "    step=1.0,\n",
    "    description='Pente:',\n",
    "    continuous_update=False\n",
    ")\n",
    "\n",
    "container2 = widgets.HBox([oro,steep])\n",
    "display(container2)\n",
    "\n"
   ]
  },
  {
   "cell_type": "code",
   "execution_count": 21,
   "metadata": {},
   "outputs": [
    {
     "data": {
      "application/vnd.jupyter.widget-view+json": {
       "model_id": "e0e0776eacc84a7388e27c2f958fe78b",
       "version_major": 2,
       "version_minor": 0
      },
      "text/plain": [
       "Output()"
      ]
     },
     "metadata": {},
     "output_type": "display_data"
    },
    {
     "data": {
      "application/vnd.jupyter.widget-view+json": {
       "model_id": "8378ea5db0274e4cb88375d7a5226cd9",
       "version_major": 2,
       "version_minor": 0
      },
      "text/plain": [
       "Button(description='Lancer', style=ButtonStyle())"
      ]
     },
     "metadata": {},
     "output_type": "display_data"
    }
   ],
   "source": [
    "button = widgets.Button(description='Lancer')\n",
    "out = widgets.Output()\n",
    "#out.layout.width = 'calc(80% + 1ex)'\n",
    "display(out)\n",
    "\n",
    "def on_button_clicked(b):\n",
    "    if oro.value == 1:\n",
    "        filename = './animations/'+str(oro.value)+'_'+str(steep.value)+'.mp4'\n",
    "    else:\n",
    "        filename = './animations/'+str(oro.value)+'.mp4'\n",
    "    with out:\n",
    "        out.clear_output()\n",
    "        dp.display(dp.Video(filename, embed=True))\n",
    "\n",
    "button.on_click(on_button_clicked)\n",
    "display(button)"
   ]
  },
  {
   "cell_type": "code",
   "execution_count": null,
   "metadata": {},
   "outputs": [],
   "source": []
  },
  {
   "cell_type": "code",
   "execution_count": null,
   "metadata": {},
   "outputs": [],
   "source": []
  }
 ],
 "metadata": {
  "kernelspec": {
   "display_name": "Python 3",
   "language": "python",
   "name": "python3"
  },
  "language_info": {
   "codemirror_mode": {
    "name": "ipython",
    "version": 3
   },
   "file_extension": ".py",
   "mimetype": "text/x-python",
   "name": "python",
   "nbconvert_exporter": "python",
   "pygments_lexer": "ipython3",
   "version": "3.8.2"
  }
 },
 "nbformat": 4,
 "nbformat_minor": 4
}
